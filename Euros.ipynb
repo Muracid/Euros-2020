{
 "cells": [
  {
   "cell_type": "code",
   "execution_count": 1,
   "metadata": {},
   "outputs": [],
   "source": [
    "import pandas as pd\n",
    "import numpy as np\n",
    "import os\n",
    "import sys\n",
    "import csv\n",
    "import glob"
   ]
  },
  {
   "cell_type": "code",
   "execution_count": 2,
   "metadata": {},
   "outputs": [],
   "source": [
    "\n",
    "def The_Solver(person): \n",
    "        data2 = pd.read_excel (person)\n",
    "        # Select the data containing the team names and results section on the left side columm\n",
    "        sub1 = data2.iloc[[0,1,2,3,4,5,9,10,11,12,13,14,18,19,20,21,22,23],[2,3]]\n",
    "\n",
    "        # Give the correct header names to the dataframe\n",
    "        sub1.columns.values[0] = \"homeTeam_goals\"\n",
    "        sub1.columns.values[1] = \"awayTeam_goals\"\n",
    "\n",
    "\n",
    "        # Select the data containing the team names and results section on the right side columm\n",
    "        sub2 = data2.iloc[[0,1,2,3,4,5,9,10,11,12,13,14,18,19,20,21,22,23],[9,10]]\n",
    "\n",
    "        # Give the correct header names to the dataframe\n",
    "        sub2.columns.values[0] = \"homeTeam_goals\"\n",
    "        sub2.columns.values[1] = \"awayTeam_goals\"\n",
    "\n",
    "        # merge the right side table with the left side table to create a simplified dataframe\n",
    "        data1 = sub1.append(sub2, ignore_index=True,sort=False)\n",
    "\n",
    "        #Change value types to intergral \n",
    "\n",
    "        data1['homeTeam_goals'] = data1['homeTeam_goals'].astype(int)\n",
    "        data1['awayTeam_goals'] = data1['awayTeam_goals'].astype(int)\n",
    "\n",
    "        #Generate a vaule difference between home and away score\n",
    "        data1['Difference'] = data1['homeTeam_goals'] - data1['awayTeam_goals']\n",
    "\n",
    "        #Create a condition where the difference in goals shows if its a home win, draw and away win\n",
    "        conditions = [\n",
    "            (data1['Difference'] < 0),\n",
    "            (data1['Difference'] == 0),\n",
    "            (data1['Difference'] > 0)]\n",
    "        choices = ['Away','Draw','Home']\n",
    "\n",
    "        #writes value in a new column Result\n",
    "        data1['Result'] = np.select(conditions, choices, default='null')\n",
    "\n",
    "        # first data acquired\n",
    "        # Need to get data from the master sheet\n",
    "        # Lets get the dataframe from played matches and mix both dataframes\n",
    "        # Get data from excel spreadsheet located in the folder Euros 2020\n",
    "        data = pd.read_excel (r'C:\\Users\\mrajamanickam\\Desktop\\Euros 2020\\Euros2020_test.xlsx')\n",
    "\n",
    "        # Select the data containing the team names and results section on the left side columm\n",
    "        test2 = data.iloc[[0,1,2,3,4,5,9,10,11,12,13,14,18,19,20,21,22,23],[1,2,3,4]]\n",
    "\n",
    "        # Give the correct header names to the dataframe\n",
    "        test2.columns.values[0] = \"home\"\n",
    "        test2.columns.values[1] = \"homeTeam_goals0\"\n",
    "        test2.columns.values[2] = \"awayTeam_goals0\"\n",
    "        test2.columns.values[3] = \"away\"\n",
    "\n",
    "        # Select the data containing the team names and results section on the right side columm\n",
    "        test3 = data.iloc[[0,1,2,3,4,5,9,10,11,12,13,14,18,19,20,21,22,23],[8,9,10,11]]\n",
    "\n",
    "        # Give the correct header names to the dataframe\n",
    "        test3.columns.values[0] = \"home\"\n",
    "        test3.columns.values[1] = \"homeTeam_goals0\"\n",
    "        test3.columns.values[2] = \"awayTeam_goals0\"\n",
    "        test3.columns.values[3] = \"away\"\n",
    "\n",
    "        # merge the right side table with the left side table to create a simplified dataframe\n",
    "        data0 = test2.append(test3, ignore_index=True,sort=False)\n",
    "\n",
    "\n",
    "        # Merge both dataframes into one\n",
    "        FinalData = pd.concat([data0, data1.reindex(data0.index)], axis=1)\n",
    "\n",
    "        #drop NAN\n",
    "        FinalData1 = FinalData.dropna()\n",
    "\n",
    "        #get points for exact outcomes\n",
    "        conditions2 = [\n",
    "            (((FinalData1['homeTeam_goals0'] + FinalData1['awayTeam_goals0'])-(FinalData1['homeTeam_goals'] + FinalData1['awayTeam_goals']))==0),\n",
    "            (((FinalData1['homeTeam_goals0'] + FinalData1['awayTeam_goals0'])-(FinalData1['homeTeam_goals'] + FinalData1['awayTeam_goals']))!=0),\n",
    "            ]\n",
    "        choices2= [2,0]\n",
    "\n",
    "        #writes value in a new column Result\n",
    "        FinalData1['points'] = np.select(conditions2, choices2, default='null')\n",
    "\n",
    "\n",
    "        #get the real results data set to get the overall results of the match \n",
    "\n",
    "        conditions3 = [\n",
    "            ((FinalData1['homeTeam_goals0'] - FinalData1['awayTeam_goals0'])< 0),\n",
    "            ((FinalData1['homeTeam_goals0'] - FinalData1['awayTeam_goals0']) == 0),\n",
    "            (FinalData1['homeTeam_goals0'] - FinalData1['awayTeam_goals0']) > 0\n",
    "            ]\n",
    "\n",
    "\n",
    "        #writes value in a new column Result\n",
    "        FinalData1['Real_results'] = np.select(conditions3, choices, default='null')\n",
    "\n",
    "\n",
    "        #Get points for overall result of the match \n",
    "        conditions4 = [\n",
    "            (FinalData1['Result'] == FinalData1['Real_results']),\n",
    "            (FinalData1['Result'] != FinalData1['Real_results'])\n",
    "            ]\n",
    "\n",
    "        choices3=[1,0]\n",
    "        #writes value in a new column Result\n",
    "        FinalData1['points2'] = np.select(conditions4, choices3, default='null')\n",
    "\n",
    "        #Gives the final result for the contestant \n",
    "        Finalpoints = sum(FinalData1['points2'].astype(int)) + sum(FinalData1['points'].astype(int))\n",
    "\n",
    "        return [Finalpoints]\n",
    "        \n",
    "    \n",
    "        \n",
    "    \n"
   ]
  },
  {
   "cell_type": "code",
   "execution_count": 18,
   "metadata": {},
   "outputs": [
    {
     "ename": "NameError",
     "evalue": "name 'file' is not defined",
     "output_type": "error",
     "traceback": [
      "\u001b[1;31m---------------------------------------------------------------------------\u001b[0m",
      "\u001b[1;31mNameError\u001b[0m                                 Traceback (most recent call last)",
      "\u001b[1;32m<ipython-input-18-bd784a10d563>\u001b[0m in \u001b[0;36m<module>\u001b[1;34m\u001b[0m\n\u001b[1;32m----> 1\u001b[1;33m \u001b[0mprint\u001b[0m\u001b[1;33m(\u001b[0m\u001b[0mfile\u001b[0m\u001b[1;33m)\u001b[0m\u001b[1;33m\u001b[0m\u001b[1;33m\u001b[0m\u001b[0m\n\u001b[0m",
      "\u001b[1;31mNameError\u001b[0m: name 'file' is not defined"
     ]
    }
   ],
   "source": [
    "print(file)"
   ]
  },
  {
   "cell_type": "code",
   "execution_count": 34,
   "metadata": {},
   "outputs": [
    {
     "ename": "SyntaxError",
     "evalue": "EOL while scanning string literal (<ipython-input-34-2e3fd1b61d92>, line 5)",
     "output_type": "error",
     "traceback": [
      "\u001b[1;36m  File \u001b[1;32m\"<ipython-input-34-2e3fd1b61d92>\"\u001b[1;36m, line \u001b[1;32m5\u001b[0m\n\u001b[1;33m    The_Solver(folder+\"\\\"+file)\u001b[0m\n\u001b[1;37m                               ^\u001b[0m\n\u001b[1;31mSyntaxError\u001b[0m\u001b[1;31m:\u001b[0m EOL while scanning string literal\n"
     ]
    }
   ],
   "source": [
    "folder = r'C:\\Users\\mrajamanickam\\Desktop\\Euros 2020\\Predictions'\n",
    "files = os.listdir(folder)\n",
    "\n",
    "for file in files:\n",
    "    The_Solver(folder++file)"
   ]
  },
  {
   "cell_type": "code",
   "execution_count": 46,
   "metadata": {},
   "outputs": [
    {
     "ename": "SyntaxError",
     "evalue": "EOL while scanning string literal (<ipython-input-46-d77d90032211>, line 4)",
     "output_type": "error",
     "traceback": [
      "\u001b[1;36m  File \u001b[1;32m\"<ipython-input-46-d77d90032211>\"\u001b[1;36m, line \u001b[1;32m4\u001b[0m\n\u001b[1;33m    The_Solver(r'os.path.join(directory, filename)'')\u001b[0m\n\u001b[1;37m                                                     ^\u001b[0m\n\u001b[1;31mSyntaxError\u001b[0m\u001b[1;31m:\u001b[0m EOL while scanning string literal\n"
     ]
    }
   ],
   "source": [
    "directory = r'C:\\Users\\mrajamanickam\\Desktop\\Euros 2020\\Predictions'\n",
    "for filename in os.listdir(directory):\n",
    "    if filename.endswith(\".xlsx\"):\n",
    "        The_Solver(r'os.path.join(directory, filename)'')\n",
    "    "
   ]
  },
  {
   "cell_type": "code",
   "execution_count": 45,
   "metadata": {},
   "outputs": [
    {
     "name": "stderr",
     "output_type": "stream",
     "text": [
      "C:\\Users\\mrajamanickam\\AppData\\Local\\Continuum\\anaconda3\\lib\\site-packages\\ipykernel_launcher.py:81: SettingWithCopyWarning: \n",
      "A value is trying to be set on a copy of a slice from a DataFrame.\n",
      "Try using .loc[row_indexer,col_indexer] = value instead\n",
      "\n",
      "See the caveats in the documentation: http://pandas.pydata.org/pandas-docs/stable/user_guide/indexing.html#returning-a-view-versus-a-copy\n",
      "C:\\Users\\mrajamanickam\\AppData\\Local\\Continuum\\anaconda3\\lib\\site-packages\\ipykernel_launcher.py:94: SettingWithCopyWarning: \n",
      "A value is trying to be set on a copy of a slice from a DataFrame.\n",
      "Try using .loc[row_indexer,col_indexer] = value instead\n",
      "\n",
      "See the caveats in the documentation: http://pandas.pydata.org/pandas-docs/stable/user_guide/indexing.html#returning-a-view-versus-a-copy\n",
      "C:\\Users\\mrajamanickam\\AppData\\Local\\Continuum\\anaconda3\\lib\\site-packages\\ipykernel_launcher.py:105: SettingWithCopyWarning: \n",
      "A value is trying to be set on a copy of a slice from a DataFrame.\n",
      "Try using .loc[row_indexer,col_indexer] = value instead\n",
      "\n",
      "See the caveats in the documentation: http://pandas.pydata.org/pandas-docs/stable/user_guide/indexing.html#returning-a-view-versus-a-copy\n"
     ]
    },
    {
     "data": {
      "text/plain": [
       "[2]"
      ]
     },
     "execution_count": 45,
     "metadata": {},
     "output_type": "execute_result"
    }
   ],
   "source": [
    "The_Solver(r'C:\\Users\\mrajamanickam\\Desktop\\Euros 2020\\Predictions\\Mike piper.xlsx')"
   ]
  },
  {
   "cell_type": "code",
   "execution_count": null,
   "metadata": {},
   "outputs": [],
   "source": [
    "test = pd.read_csv()"
   ]
  }
 ],
 "metadata": {
  "kernelspec": {
   "display_name": "Python 3",
   "language": "python",
   "name": "python3"
  },
  "language_info": {
   "codemirror_mode": {
    "name": "ipython",
    "version": 3
   },
   "file_extension": ".py",
   "mimetype": "text/x-python",
   "name": "python",
   "nbconvert_exporter": "python",
   "pygments_lexer": "ipython3",
   "version": "3.7.4"
  }
 },
 "nbformat": 4,
 "nbformat_minor": 2
}
