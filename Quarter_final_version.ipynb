{
 "cells": [
  {
   "cell_type": "code",
   "execution_count": 1,
   "metadata": {},
   "outputs": [],
   "source": [
    "import pandas as pd\n",
    "import numpy as np\n",
    "import os\n",
    "import sys\n",
    "import csv\n",
    "import glob\n"
   ]
  },
  {
   "cell_type": "code",
   "execution_count": 2,
   "metadata": {},
   "outputs": [],
   "source": [
    " def The_Solver(person):        \n",
    "        data0 = pd.read_excel (r'C:\\Users\\mrajamanickam\\Desktop\\Euros 2020\\Euros2020_quarter_test.xlsx').iloc[[0,1,2,3],[1,2,3,4,5]]\n",
    "        data1 = pd.read_excel (person).iloc[[0,1,2,3],[1,2,3,4,5]]\n",
    "        data0.dropna(inplace = True)\n",
    "        data1.dropna(inplace = True)\n",
    "        FinalData = pd.concat([data0, data1.reindex(data0.index)], axis=1)\n",
    "\n",
    "        #condition 1 to see away, draw or Home\n",
    "        a1 = (FinalData['Score Home0'].astype(int))-(FinalData['Score Away0'].astype(int))\n",
    "        b1 = (FinalData['Score Home'].astype(int))-(FinalData['Score Away'].astype(int))\n",
    "        c1 = (FinalData['Team that Qualifies0'].astype(str)) == (FinalData['Team that Qualifies'].astype(str))\n",
    "        d1 = ((FinalData['Score Home0'].astype(int)) == (FinalData['Score Home'].astype(int))) & ((FinalData['Score Away0'].astype(int)) == (FinalData['Score Away'].astype(int)))\n",
    "\n",
    "\n",
    "        #Create a condition where the difference in goals shows if its a home win, draw and away win\n",
    "        conditions = [\n",
    "                    (c1 & d1),\n",
    "                    (d1),\n",
    "                    ((((a1 < 0) & (b1 < 0))|((a1 == 0) & (b1 == 0)) | ((a1 > 0) & (b1 > 0))) & c1),\n",
    "                    (((a1 < 0) & (b1 < 0))|((a1 == 0) & (b1 == 0)) | ((a1 > 0) & (b1 > 0))), \n",
    "                    (c1)]\n",
    "        choices = [5,4,3,2,1]\n",
    "\n",
    "        #right outcome and right result and right qualified 5\n",
    "        #right outcome and right result but wrong qualified 4\n",
    "        #right outcome and right qualified 3\n",
    "        #right outcome 2\n",
    "        #right qualified 1\n",
    "\n",
    "        #getting the scores and predictions\n",
    "\n",
    "        points = np.select(conditions, choices, default= 0).sum()\n",
    "        correct_predictions = d1.sum()\n",
    "        person2 = person[:-5]\n",
    "\n",
    "        #getting data from the previous round\n",
    "        data2 = pd.read_excel(r'C:\\Users\\mrajamanickam\\Desktop\\Euros 2020\\Updated_30_06_21.xlsx')\n",
    "        data3 = data2[data2.Names == person2]\n",
    "\n",
    "        #addition of both rounds\n",
    "        pointsf = points + data3.iloc[0,1]\n",
    "        correct_predictionsf = correct_predictions + data3.iloc[0,2]\n",
    "\n",
    "        return [person2,pointsf,correct_predictionsf]"
   ]
  },
  {
   "cell_type": "code",
   "execution_count": 3,
   "metadata": {},
   "outputs": [],
   "source": [
    "#Create a list of files in the directory where the excel files are\n",
    "A = []\n",
    "directory = r'C:\\Users\\mrajamanickam\\Desktop\\Euros 2020\\Predictions\\quarter'\n",
    "for filename in os.listdir(directory):\n",
    "    if filename.endswith(\".xlsx\"):\n",
    "        A.append(filename)\n",
    "    else:\n",
    "        continue\n",
    "# create a list where the data takes a excel file, does the magic and gives the person and their score\n",
    "B = []\n",
    "for competitor in A:\n",
    "    B.append(The_Solver(competitor))\n",
    "\n",
    "#Create a dataframe to manipulate the list and export it as updated_data to the main folder\n",
    "FinalDF = pd.DataFrame(B,columns =['Names','Scores','Correct Predictions'])\n",
    "FinalDF.sort_values(['Scores','Correct Predictions'], ascending=(False, False), inplace = True)\n",
    "FinalDF.to_excel(r'C:\\Users\\mrajamanickam\\Desktop\\Euros 2020\\Updated_04_07_21.xlsx', index = False)"
   ]
  },
  {
   "cell_type": "code",
   "execution_count": null,
   "metadata": {},
   "outputs": [],
   "source": []
  }
 ],
 "metadata": {
  "kernelspec": {
   "display_name": "Python 3",
   "language": "python",
   "name": "python3"
  },
  "language_info": {
   "codemirror_mode": {
    "name": "ipython",
    "version": 3
   },
   "file_extension": ".py",
   "mimetype": "text/x-python",
   "name": "python",
   "nbconvert_exporter": "python",
   "pygments_lexer": "ipython3",
   "version": "3.7.4"
  }
 },
 "nbformat": 4,
 "nbformat_minor": 2
}
